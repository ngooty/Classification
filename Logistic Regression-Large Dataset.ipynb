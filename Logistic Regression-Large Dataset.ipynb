{
 "cells": [
  {
   "cell_type": "markdown",
   "metadata": {},
   "source": [
    "# Logistic Regression Demo - Large Dataset"
   ]
  },
  {
   "cell_type": "markdown",
   "metadata": {},
   "source": [
    "## Import Libraries"
   ]
  },
  {
   "cell_type": "code",
   "execution_count": null,
   "metadata": {},
   "outputs": [],
   "source": [
    "import pandas as pd\n",
    "import numpy as np\n",
    "import matplotlib.pyplot as plt\n",
    "import seaborn as sns\n",
    "import os\n",
    "#from imblearn.over_sampling import SMOTE\n",
    "from sklearn.model_selection import train_test_split\n",
    "from sklearn.preprocessing import StandardScaler\n",
    "from sklearn.preprocessing import LabelEncoder\n",
    "from sklearn.linear_model import LogisticRegression\n",
    "from sklearn.metrics import confusion_matrix,accuracy_score,roc_auc_score\n",
    "from sklearn.impute import SimpleImputer\n",
    "\n",
    "\n",
    "%matplotlib inline\n",
    "os.getcwd()"
   ]
  },
  {
   "cell_type": "markdown",
   "metadata": {},
   "source": [
    "## Import Dataset"
   ]
  },
  {
   "cell_type": "code",
   "execution_count": 60,
   "metadata": {},
   "outputs": [
    {
     "data": {
      "text/plain": [
       "array([7689, 1838,  280,  117,   66,    7,    2,    1], dtype=int64)"
      ]
     },
     "execution_count": 60,
     "metadata": {},
     "output_type": "execute_result"
    }
   ],
   "source": [
    "cosmetic=pd.read_csv('cosmeticdata.csv')\n",
    "cosmetic=cosmetic.sample(10000)\n",
    "cosmetic['ChemicalCount'].value_counts().unique()"
   ]
  },
  {
   "cell_type": "markdown",
   "metadata": {},
   "source": [
    "## Target variable is imbalanced - Apply SMOTE"
   ]
  },
  {
   "cell_type": "code",
   "execution_count": null,
   "metadata": {},
   "outputs": [],
   "source": [
    "\n",
    "sm = SMOTE(random_state=589)\n",
    "X_SMOTE, y_SMOTE = sm.fit_sample(X_train, y_train)\n",
    "print(len(y_SMOTE))"
   ]
  },
  {
   "cell_type": "markdown",
   "metadata": {},
   "source": [
    "## Exploratory Data Analysis"
   ]
  },
  {
   "cell_type": "code",
   "execution_count": null,
   "metadata": {},
   "outputs": [],
   "source": [
    "cosmetic.info()"
   ]
  },
  {
   "cell_type": "code",
   "execution_count": null,
   "metadata": {},
   "outputs": [],
   "source": [
    "cosmetic.describe()"
   ]
  },
  {
   "cell_type": "code",
   "execution_count": 23,
   "metadata": {},
   "outputs": [
    {
     "data": {
      "text/plain": [
       "Index(['CSFId', 'CSF', 'BrandName', 'CasNumber', 'DiscontinuedDate',\n",
       "       'ChemicalDateRemoved'],\n",
       "      dtype='object')"
      ]
     },
     "execution_count": 23,
     "metadata": {},
     "output_type": "execute_result"
    }
   ],
   "source": [
    "null_value_cols=cosmetic.isnull().any()\n",
    "null_value_cols=cosmetic.columns[null_value_cols]\n",
    "null_value_cols"
   ]
  },
  {
   "cell_type": "code",
   "execution_count": 24,
   "metadata": {},
   "outputs": [],
   "source": [
    "imputer=SimpleImputer(missing_values=np.nan,strategy='most_frequent')\n",
    "#cosmetic[['CSFId','CSF']]=imputer.fit_transform(cosmetic[['CSFId','CSF']])\n",
    "cosmetic[['CSFId', 'CSF', 'BrandName', 'CasNumber', 'DiscontinuedDate','ChemicalDateRemoved']]=imputer.fit_transform(cosmetic[['CSFId', 'CSF', 'BrandName', 'CasNumber', 'DiscontinuedDate','ChemicalDateRemoved']])"
   ]
  },
  {
   "cell_type": "code",
   "execution_count": 25,
   "metadata": {},
   "outputs": [],
   "source": [
    "\n",
    "cosmetic.loc[:,null_value_cols]=imputer.fit_transform(cosmetic.loc[:,null_value_cols])\n",
    "#cosmetic.isnull().sum()"
   ]
  },
  {
   "cell_type": "code",
   "execution_count": null,
   "metadata": {},
   "outputs": [],
   "source": [
    "sns.boxplot(x='sex',y='charges',hue='region',data=insurance)"
   ]
  },
  {
   "cell_type": "code",
   "execution_count": null,
   "metadata": {},
   "outputs": [],
   "source": [
    "sns.regplot(x='age',y='charges',data=insurance)\n",
    "plt.show()"
   ]
  },
  {
   "cell_type": "code",
   "execution_count": null,
   "metadata": {},
   "outputs": [],
   "source": [
    "fig=sns.FacetGrid(insurance,col='sex')\n",
    "fig.map(plt.hist,'charges')"
   ]
  },
  {
   "cell_type": "code",
   "execution_count": null,
   "metadata": {},
   "outputs": [],
   "source": [
    "insurance.isnull().sum()"
   ]
  },
  {
   "cell_type": "code",
   "execution_count": null,
   "metadata": {},
   "outputs": [],
   "source": [
    "insurance.plot('age',kind='hist')"
   ]
  },
  {
   "cell_type": "code",
   "execution_count": null,
   "metadata": {},
   "outputs": [],
   "source": [
    "insurance.plot('charges',kind='hist')"
   ]
  },
  {
   "cell_type": "markdown",
   "metadata": {},
   "source": [
    "## Convert Categorical Columns to Numeric"
   ]
  },
  {
   "cell_type": "markdown",
   "metadata": {},
   "source": [
    "### Get Dummies "
   ]
  },
  {
   "cell_type": "code",
   "execution_count": 32,
   "metadata": {},
   "outputs": [],
   "source": [
    "processed_data=pd.get_dummies(cosmetic)"
   ]
  },
  {
   "cell_type": "markdown",
   "metadata": {},
   "source": [
    "### Label Encoder"
   ]
  },
  {
   "cell_type": "code",
   "execution_count": null,
   "metadata": {},
   "outputs": [],
   "source": [
    "le=LabelEncoder()\n",
    "qualitative=[c for c in insurance.columns if insurance.dtypes[c]=='object']\n",
    "le_sex=LabelEncoder()\n",
    "le_smoker=LabelEncoder()\n",
    "le_region=LabelEncoder()\n",
    "insurance[qualitative[0]]=le_sex.fit_transform(insurance[qualitative[0]])\n",
    "insurance[qualitative[1]]=le_sex.fit_transform(insurance[qualitative[1]])\n",
    "insurance[qualitative[2]]=le_sex.fit_transform(insurance[qualitative[2]])\n",
    "insurance.head()"
   ]
  },
  {
   "cell_type": "code",
   "execution_count": 34,
   "metadata": {},
   "outputs": [
    {
     "data": {
      "text/html": [
       "<div>\n",
       "<style scoped>\n",
       "    .dataframe tbody tr th:only-of-type {\n",
       "        vertical-align: middle;\n",
       "    }\n",
       "\n",
       "    .dataframe tbody tr th {\n",
       "        vertical-align: top;\n",
       "    }\n",
       "\n",
       "    .dataframe thead th {\n",
       "        text-align: right;\n",
       "    }\n",
       "</style>\n",
       "<table border=\"1\" class=\"dataframe\">\n",
       "  <thead>\n",
       "    <tr style=\"text-align: right;\">\n",
       "      <th></th>\n",
       "      <th>CDPHId</th>\n",
       "      <th>CSFId</th>\n",
       "      <th>CompanyId</th>\n",
       "      <th>PrimaryCategoryId</th>\n",
       "      <th>SubCategoryId</th>\n",
       "      <th>CasId</th>\n",
       "      <th>ChemicalId</th>\n",
       "      <th>ChemicalCount</th>\n",
       "      <th>ProductName_\"DIOR PRESTIGE LE MICRO-FLUIDE TEINT DE ROSE Micro-Nutritive Skincare Foundation  Revitalizing and Illuminating</th>\n",
       "      <th>ProductName_\"Hello Flawless!\" SPF 15</th>\n",
       "      <th>...</th>\n",
       "      <th>ChemicalDateRemoved_12/05/2103</th>\n",
       "      <th>ChemicalDateRemoved_12/08/2009</th>\n",
       "      <th>ChemicalDateRemoved_12/09/2011</th>\n",
       "      <th>ChemicalDateRemoved_12/14/2009</th>\n",
       "      <th>ChemicalDateRemoved_12/16/2009</th>\n",
       "      <th>ChemicalDateRemoved_12/28/2018</th>\n",
       "      <th>ChemicalDateRemoved_12/30/2013</th>\n",
       "      <th>ChemicalDateRemoved_12/31/2009</th>\n",
       "      <th>ChemicalDateRemoved_12/31/2016</th>\n",
       "      <th>ChemicalDateRemoved_12/31/2017</th>\n",
       "    </tr>\n",
       "  </thead>\n",
       "  <tbody>\n",
       "    <tr>\n",
       "      <th>76040</th>\n",
       "      <td>27368</td>\n",
       "      <td>54453.0</td>\n",
       "      <td>784</td>\n",
       "      <td>44</td>\n",
       "      <td>58</td>\n",
       "      <td>656</td>\n",
       "      <td>44311</td>\n",
       "      <td>1</td>\n",
       "      <td>0</td>\n",
       "      <td>0</td>\n",
       "      <td>...</td>\n",
       "      <td>0</td>\n",
       "      <td>0</td>\n",
       "      <td>0</td>\n",
       "      <td>0</td>\n",
       "      <td>0</td>\n",
       "      <td>0</td>\n",
       "      <td>0</td>\n",
       "      <td>0</td>\n",
       "      <td>0</td>\n",
       "      <td>0</td>\n",
       "    </tr>\n",
       "    <tr>\n",
       "      <th>28816</th>\n",
       "      <td>8777</td>\n",
       "      <td>54453.0</td>\n",
       "      <td>396</td>\n",
       "      <td>59</td>\n",
       "      <td>65</td>\n",
       "      <td>656</td>\n",
       "      <td>13675</td>\n",
       "      <td>1</td>\n",
       "      <td>0</td>\n",
       "      <td>0</td>\n",
       "      <td>...</td>\n",
       "      <td>0</td>\n",
       "      <td>0</td>\n",
       "      <td>0</td>\n",
       "      <td>0</td>\n",
       "      <td>1</td>\n",
       "      <td>0</td>\n",
       "      <td>0</td>\n",
       "      <td>0</td>\n",
       "      <td>0</td>\n",
       "      <td>0</td>\n",
       "    </tr>\n",
       "    <tr>\n",
       "      <th>102998</th>\n",
       "      <td>37071</td>\n",
       "      <td>59531.0</td>\n",
       "      <td>23</td>\n",
       "      <td>59</td>\n",
       "      <td>65</td>\n",
       "      <td>656</td>\n",
       "      <td>60903</td>\n",
       "      <td>1</td>\n",
       "      <td>0</td>\n",
       "      <td>0</td>\n",
       "      <td>...</td>\n",
       "      <td>0</td>\n",
       "      <td>0</td>\n",
       "      <td>0</td>\n",
       "      <td>0</td>\n",
       "      <td>0</td>\n",
       "      <td>0</td>\n",
       "      <td>0</td>\n",
       "      <td>0</td>\n",
       "      <td>0</td>\n",
       "      <td>0</td>\n",
       "    </tr>\n",
       "    <tr>\n",
       "      <th>12940</th>\n",
       "      <td>3070</td>\n",
       "      <td>5990.0</td>\n",
       "      <td>67</td>\n",
       "      <td>44</td>\n",
       "      <td>52</td>\n",
       "      <td>656</td>\n",
       "      <td>5125</td>\n",
       "      <td>1</td>\n",
       "      <td>0</td>\n",
       "      <td>0</td>\n",
       "      <td>...</td>\n",
       "      <td>0</td>\n",
       "      <td>0</td>\n",
       "      <td>0</td>\n",
       "      <td>0</td>\n",
       "      <td>0</td>\n",
       "      <td>0</td>\n",
       "      <td>0</td>\n",
       "      <td>0</td>\n",
       "      <td>0</td>\n",
       "      <td>0</td>\n",
       "    </tr>\n",
       "    <tr>\n",
       "      <th>64681</th>\n",
       "      <td>23314</td>\n",
       "      <td>54453.0</td>\n",
       "      <td>184</td>\n",
       "      <td>18</td>\n",
       "      <td>25</td>\n",
       "      <td>656</td>\n",
       "      <td>35549</td>\n",
       "      <td>1</td>\n",
       "      <td>0</td>\n",
       "      <td>0</td>\n",
       "      <td>...</td>\n",
       "      <td>0</td>\n",
       "      <td>0</td>\n",
       "      <td>0</td>\n",
       "      <td>0</td>\n",
       "      <td>0</td>\n",
       "      <td>0</td>\n",
       "      <td>0</td>\n",
       "      <td>0</td>\n",
       "      <td>0</td>\n",
       "      <td>0</td>\n",
       "    </tr>\n",
       "  </tbody>\n",
       "</table>\n",
       "<p>5 rows × 12943 columns</p>\n",
       "</div>"
      ],
      "text/plain": [
       "        CDPHId    CSFId  CompanyId  PrimaryCategoryId  SubCategoryId  CasId  \\\n",
       "76040    27368  54453.0        784                 44             58    656   \n",
       "28816     8777  54453.0        396                 59             65    656   \n",
       "102998   37071  59531.0         23                 59             65    656   \n",
       "12940     3070   5990.0         67                 44             52    656   \n",
       "64681    23314  54453.0        184                 18             25    656   \n",
       "\n",
       "        ChemicalId  ChemicalCount  \\\n",
       "76040        44311              1   \n",
       "28816        13675              1   \n",
       "102998       60903              1   \n",
       "12940         5125              1   \n",
       "64681        35549              1   \n",
       "\n",
       "        ProductName_\"DIOR PRESTIGE LE MICRO-FLUIDE TEINT DE ROSE Micro-Nutritive Skincare Foundation  Revitalizing and Illuminating  \\\n",
       "76040                                                   0                                                                             \n",
       "28816                                                   0                                                                             \n",
       "102998                                                  0                                                                             \n",
       "12940                                                   0                                                                             \n",
       "64681                                                   0                                                                             \n",
       "\n",
       "        ProductName_\"Hello Flawless!\" SPF 15  ...  \\\n",
       "76040                                      0  ...   \n",
       "28816                                      0  ...   \n",
       "102998                                     0  ...   \n",
       "12940                                      0  ...   \n",
       "64681                                      0  ...   \n",
       "\n",
       "        ChemicalDateRemoved_12/05/2103  ChemicalDateRemoved_12/08/2009  \\\n",
       "76040                                0                               0   \n",
       "28816                                0                               0   \n",
       "102998                               0                               0   \n",
       "12940                                0                               0   \n",
       "64681                                0                               0   \n",
       "\n",
       "        ChemicalDateRemoved_12/09/2011  ChemicalDateRemoved_12/14/2009  \\\n",
       "76040                                0                               0   \n",
       "28816                                0                               0   \n",
       "102998                               0                               0   \n",
       "12940                                0                               0   \n",
       "64681                                0                               0   \n",
       "\n",
       "        ChemicalDateRemoved_12/16/2009  ChemicalDateRemoved_12/28/2018  \\\n",
       "76040                                0                               0   \n",
       "28816                                1                               0   \n",
       "102998                               0                               0   \n",
       "12940                                0                               0   \n",
       "64681                                0                               0   \n",
       "\n",
       "        ChemicalDateRemoved_12/30/2013  ChemicalDateRemoved_12/31/2009  \\\n",
       "76040                                0                               0   \n",
       "28816                                0                               0   \n",
       "102998                               0                               0   \n",
       "12940                                0                               0   \n",
       "64681                                0                               0   \n",
       "\n",
       "        ChemicalDateRemoved_12/31/2016  ChemicalDateRemoved_12/31/2017  \n",
       "76040                                0                               0  \n",
       "28816                                0                               0  \n",
       "102998                               0                               0  \n",
       "12940                                0                               0  \n",
       "64681                                0                               0  \n",
       "\n",
       "[5 rows x 12943 columns]"
      ]
     },
     "execution_count": 34,
     "metadata": {},
     "output_type": "execute_result"
    }
   ],
   "source": [
    "processed_data.head()"
   ]
  },
  {
   "cell_type": "markdown",
   "metadata": {},
   "source": [
    "## Split the target and predictors to y and x variables"
   ]
  },
  {
   "cell_type": "code",
   "execution_count": 35,
   "metadata": {},
   "outputs": [],
   "source": [
    "y=processed_data['ChemicalCount']\n",
    "x=processed_data.drop('ChemicalCount',axis=1)"
   ]
  },
  {
   "cell_type": "markdown",
   "metadata": {},
   "source": [
    "### Scaler  - Standard Scaler used here to scale the data"
   ]
  },
  {
   "cell_type": "code",
   "execution_count": 36,
   "metadata": {},
   "outputs": [],
   "source": [
    "scaler=StandardScaler()\n",
    "x=scaler.fit_transform(processed_data)"
   ]
  },
  {
   "cell_type": "code",
   "execution_count": 37,
   "metadata": {},
   "outputs": [
    {
     "data": {
      "text/plain": [
       "(5000, 5000)"
      ]
     },
     "execution_count": 37,
     "metadata": {},
     "output_type": "execute_result"
    }
   ],
   "source": [
    "len(x),len(y)"
   ]
  },
  {
   "cell_type": "markdown",
   "metadata": {},
   "source": [
    "### Split the processed dataset into train and test datasets"
   ]
  },
  {
   "cell_type": "code",
   "execution_count": 38,
   "metadata": {},
   "outputs": [],
   "source": [
    "\n",
    "xtrain,xtest,ytrain,ytest=train_test_split(x,y,random_state=1,test_size=0.30)"
   ]
  },
  {
   "cell_type": "code",
   "execution_count": 39,
   "metadata": {},
   "outputs": [
    {
     "data": {
      "text/plain": [
       "((3500, 12943), (3500,), (1500, 12943), (1500,))"
      ]
     },
     "execution_count": 39,
     "metadata": {},
     "output_type": "execute_result"
    }
   ],
   "source": [
    "xtrain.shape,ytrain.shape,xtest.shape,ytest.shape"
   ]
  },
  {
   "cell_type": "markdown",
   "metadata": {},
   "source": [
    "## Instantiate Linear Regression Model"
   ]
  },
  {
   "cell_type": "code",
   "execution_count": 40,
   "metadata": {},
   "outputs": [],
   "source": [
    "lm=LogisticRegression()"
   ]
  },
  {
   "cell_type": "markdown",
   "metadata": {},
   "source": [
    "### Create the Linear Regression Model"
   ]
  },
  {
   "cell_type": "code",
   "execution_count": 41,
   "metadata": {},
   "outputs": [
    {
     "name": "stderr",
     "output_type": "stream",
     "text": [
      "C:\\ProgramData\\Anaconda3\\lib\\site-packages\\sklearn\\linear_model\\logistic.py:432: FutureWarning: Default solver will be changed to 'lbfgs' in 0.22. Specify a solver to silence this warning.\n",
      "  FutureWarning)\n",
      "C:\\ProgramData\\Anaconda3\\lib\\site-packages\\sklearn\\linear_model\\logistic.py:469: FutureWarning: Default multi_class will be changed to 'auto' in 0.22. Specify the multi_class option to silence this warning.\n",
      "  \"this warning.\", FutureWarning)\n"
     ]
    }
   ],
   "source": [
    "model=lm.fit(xtrain,ytrain)\n"
   ]
  },
  {
   "cell_type": "markdown",
   "metadata": {},
   "source": [
    "## Predict the model with test dataset"
   ]
  },
  {
   "cell_type": "code",
   "execution_count": 42,
   "metadata": {},
   "outputs": [],
   "source": [
    "result=model.predict(xtest)"
   ]
  },
  {
   "cell_type": "markdown",
   "metadata": {},
   "source": [
    "## Check Accuracy for the model"
   ]
  },
  {
   "cell_type": "code",
   "execution_count": null,
   "metadata": {},
   "outputs": [],
   "source": [
    "### Graph not working fine. \n",
    "\n",
    "cm=confusion_matrix(ytest,result)\n",
    "print(accuracy_score(ytest,result))\n",
    "fig,ax=plt.subplots(figsize=(10,5))\n",
    "ax.imshow(cm)\n",
    "ax.grid(False)\n",
    "ax.set_xlabel('Predicted outputs', fontsize=2, color='black')\n",
    "ax.set_ylabel('Actual outputs', fontsize=2, color='black')\n",
    "ax.xaxis.set(ticks=range(10))\n",
    "ax.yaxis.set(ticks=range(10))"
   ]
  },
  {
   "cell_type": "code",
   "execution_count": null,
   "metadata": {},
   "outputs": [],
   "source": [
    "df=pd.DataFrame({'Actual':ytest,'Predicted':result})\n",
    "\n"
   ]
  },
  {
   "cell_type": "code",
   "execution_count": null,
   "metadata": {},
   "outputs": [],
   "source": [
    "from sklearn.metrics import roc_auc_score\n",
    "from sklearn.metrics import roc_curve\n",
    "logit_roc_auc = roc_auc_score(ytest, result)\n",
    "fpr, tpr, thresholds = roc_curve(ytest, model.predict_proba(xtest)[:,1])\n",
    "plt.figure()\n",
    "plt.plot(fpr, tpr, label='Logistic Regression (area = %0.2f)' % logit_roc_auc)\n",
    "plt.plot([0, 1], [0, 1],'r--')\n",
    "plt.xlim([0.0, 1.0])\n",
    "plt.ylim([0.0, 1.05])\n",
    "plt.xlabel('False Positive Rate')\n",
    "plt.ylabel('True Positive Rate')\n",
    "plt.title('Receiver operating characteristic')\n",
    "plt.legend(loc=\"lower right\")\n",
    "plt.savefig('Log_ROC')\n",
    "plt.show()"
   ]
  },
  {
   "cell_type": "markdown",
   "metadata": {},
   "source": [
    "## Without Scaler"
   ]
  },
  {
   "cell_type": "code",
   "execution_count": null,
   "metadata": {},
   "outputs": [],
   "source": [
    "test=processed_data['charges']\n",
    "train=processed_data.drop('charges',axis=1)"
   ]
  },
  {
   "cell_type": "code",
   "execution_count": null,
   "metadata": {},
   "outputs": [],
   "source": [
    "xtrain1,xtest1,ytrain1,ytest1=train_test_split(train,test,test_size=0.3,random_state=3)"
   ]
  },
  {
   "cell_type": "code",
   "execution_count": null,
   "metadata": {},
   "outputs": [],
   "source": [
    "xtrain1.shape,ytrain1.shape"
   ]
  },
  {
   "cell_type": "code",
   "execution_count": null,
   "metadata": {},
   "outputs": [],
   "source": [
    "model1=lm.fit(xtrain1,ytrain1)"
   ]
  },
  {
   "cell_type": "code",
   "execution_count": null,
   "metadata": {},
   "outputs": [],
   "source": [
    "result1=model.predict(xtest1)"
   ]
  },
  {
   "cell_type": "code",
   "execution_count": null,
   "metadata": {},
   "outputs": [],
   "source": [
    "mse1=mean_squared_error(result1, ytest1)\n",
    "rmse1 = np.sqrt(mse1)\n",
    "print(rmse1)\n",
    "print(r2_score(ytest1,result1))"
   ]
  },
  {
   "cell_type": "code",
   "execution_count": null,
   "metadata": {},
   "outputs": [],
   "source": [
    "df=pd.DataFrame({'Actual':ytest,'Predicted':result})\n",
    "\n",
    "df1=pd.DataFrame({'Actual1':ytest1,'Predicted1':result1})\n",
    "sns.lmplot(x='Actual',y='Predicted',data=df)\n",
    "sns.lmplot(x='Actual1',y='Predicted1',data=df1)"
   ]
  },
  {
   "cell_type": "code",
   "execution_count": null,
   "metadata": {},
   "outputs": [],
   "source": []
  }
 ],
 "metadata": {
  "kernelspec": {
   "display_name": "Python 3",
   "language": "python",
   "name": "python3"
  },
  "language_info": {
   "codemirror_mode": {
    "name": "ipython",
    "version": 3
   },
   "file_extension": ".py",
   "mimetype": "text/x-python",
   "name": "python",
   "nbconvert_exporter": "python",
   "pygments_lexer": "ipython3",
   "version": "3.7.3"
  }
 },
 "nbformat": 4,
 "nbformat_minor": 4
}
