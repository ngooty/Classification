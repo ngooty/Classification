{
 "cells": [
  {
   "cell_type": "markdown",
   "metadata": {},
   "source": [
    "<h2><u>Machine Learning And NLP</u></h2>\n",
    "\n",
    "# Module 4 - Mathematical And Bayesian Models\n",
    "\n",
    "## Demo 3 : Support Vector Machine"
   ]
  },
  {
   "cell_type": "markdown",
   "metadata": {},
   "source": [
    "In this demo, you will learn how to apply SVM algorithm in Python using scikit-learn library"
   ]
  },
  {
   "cell_type": "markdown",
   "metadata": {},
   "source": [
    "---"
   ]
  },
  {
   "cell_type": "markdown",
   "metadata": {},
   "source": [
    "## Problem Statement"
   ]
  },
  {
   "cell_type": "markdown",
   "metadata": {},
   "source": [
    "Given details of loan application predict the loan will be granted or not."
   ]
  },
  {
   "cell_type": "markdown",
   "metadata": {},
   "source": [
    "---"
   ]
  },
  {
   "cell_type": "markdown",
   "metadata": {},
   "source": [
    "## Importing Required Libraries"
   ]
  },
  {
   "cell_type": "code",
   "execution_count": 1,
   "metadata": {},
   "outputs": [],
   "source": [
    "import pandas as pd\n",
    "import matplotlib.pyplot as plt\n",
    "import numpy as np\n",
    "from sklearn.model_selection import train_test_split\n",
    "from sklearn.preprocessing import LabelEncoder\n",
    "from sklearn.preprocessing import RobustScaler\n",
    "from sklearn.svm import SVC\n",
    "from sklearn.metrics import accuracy_score\n",
    "from io import StringIO\n",
    "import matplotlib.pyplot as plt\n",
    "from matplotlib.colors import ListedColormap\n",
    "import seaborn as sns\n",
    "%matplotlib inline"
   ]
  },
  {
   "cell_type": "markdown",
   "metadata": {},
   "source": [
    "---"
   ]
  },
  {
   "cell_type": "markdown",
   "metadata": {},
   "source": [
    "## Dataset"
   ]
  },
  {
   "cell_type": "markdown",
   "metadata": {},
   "source": [
    "Dataset includes details of different loan applications along with the application status:\n",
    "\n",
    "- __Loan_ID__: LP001002(Application ID)\n",
    "- __Gender__: Male/Female\n",
    "- __ApplicantIncome__: Monthly income of the applicant\n",
    "- __LoanAmount__: Amount to be loaned\n",
    "- __Loan_Status__: Either the application has been accepted or not(Y/N)\n"
   ]
  },
  {
   "cell_type": "markdown",
   "metadata": {},
   "source": [
    "<div style=\"background-color:##EDF9FF\">\n",
    "  <ul><li><h3>Checking Data</h3></li></ul>\n",
    "</div>"
   ]
  },
  {
   "cell_type": "code",
   "execution_count": 2,
   "metadata": {},
   "outputs": [],
   "source": [
    "loan_data=pd.read_csv('loan_grant.csv')"
   ]
  },
  {
   "cell_type": "code",
   "execution_count": 3,
   "metadata": {},
   "outputs": [
    {
     "data": {
      "text/html": [
       "<div>\n",
       "<style scoped>\n",
       "    .dataframe tbody tr th:only-of-type {\n",
       "        vertical-align: middle;\n",
       "    }\n",
       "\n",
       "    .dataframe tbody tr th {\n",
       "        vertical-align: top;\n",
       "    }\n",
       "\n",
       "    .dataframe thead th {\n",
       "        text-align: right;\n",
       "    }\n",
       "</style>\n",
       "<table border=\"1\" class=\"dataframe\">\n",
       "  <thead>\n",
       "    <tr style=\"text-align: right;\">\n",
       "      <th></th>\n",
       "      <th>Loan_ID</th>\n",
       "      <th>Gender</th>\n",
       "      <th>ApplicantIncome</th>\n",
       "      <th>LoanAmount</th>\n",
       "      <th>Loan_Status</th>\n",
       "    </tr>\n",
       "  </thead>\n",
       "  <tbody>\n",
       "    <tr>\n",
       "      <td>0</td>\n",
       "      <td>LP001002</td>\n",
       "      <td>Male</td>\n",
       "      <td>5849</td>\n",
       "      <td>NaN</td>\n",
       "      <td>Y</td>\n",
       "    </tr>\n",
       "    <tr>\n",
       "      <td>1</td>\n",
       "      <td>LP001003</td>\n",
       "      <td>Male</td>\n",
       "      <td>4583</td>\n",
       "      <td>128.0</td>\n",
       "      <td>N</td>\n",
       "    </tr>\n",
       "    <tr>\n",
       "      <td>2</td>\n",
       "      <td>LP001005</td>\n",
       "      <td>Male</td>\n",
       "      <td>3000</td>\n",
       "      <td>66.0</td>\n",
       "      <td>Y</td>\n",
       "    </tr>\n",
       "    <tr>\n",
       "      <td>3</td>\n",
       "      <td>LP001006</td>\n",
       "      <td>Male</td>\n",
       "      <td>2583</td>\n",
       "      <td>120.0</td>\n",
       "      <td>Y</td>\n",
       "    </tr>\n",
       "    <tr>\n",
       "      <td>4</td>\n",
       "      <td>LP001008</td>\n",
       "      <td>Male</td>\n",
       "      <td>6000</td>\n",
       "      <td>141.0</td>\n",
       "      <td>Y</td>\n",
       "    </tr>\n",
       "  </tbody>\n",
       "</table>\n",
       "</div>"
      ],
      "text/plain": [
       "    Loan_ID Gender  ApplicantIncome  LoanAmount Loan_Status\n",
       "0  LP001002   Male             5849         NaN           Y\n",
       "1  LP001003   Male             4583       128.0           N\n",
       "2  LP001005   Male             3000        66.0           Y\n",
       "3  LP001006   Male             2583       120.0           Y\n",
       "4  LP001008   Male             6000       141.0           Y"
      ]
     },
     "execution_count": 3,
     "metadata": {},
     "output_type": "execute_result"
    }
   ],
   "source": [
    "loan_data.head()"
   ]
  },
  {
   "cell_type": "code",
   "execution_count": 4,
   "metadata": {},
   "outputs": [
    {
     "data": {
      "text/plain": [
       "(614, 5)"
      ]
     },
     "execution_count": 4,
     "metadata": {},
     "output_type": "execute_result"
    }
   ],
   "source": [
    "#Dataset shape to get number of rows and columns\n",
    "loan_data.shape"
   ]
  },
  {
   "cell_type": "markdown",
   "metadata": {},
   "source": [
    "<div style=\"background-color:##FBFFE3\">\n",
    "    <div style=\"float:left\">\n",
    "        <img src='https://drive.google.com/uc?export=download&id=1gpc8kbwaenTpaIvnO_MQR3vw12rKYQrJ', width=20,height=20,>\n",
    "    </div>\n",
    "    <span style=\"padding:20px;\">Number of rows and columns in the dataset</span>\n",
    "</div>"
   ]
  },
  {
   "cell_type": "markdown",
   "metadata": {},
   "source": [
    "<div style=\"background-color:##EDF9FF\">\n",
    "  <ul><li><h3>Checking Datatypes</h3></li></ul>\n",
    "</div>"
   ]
  },
  {
   "cell_type": "code",
   "execution_count": 5,
   "metadata": {},
   "outputs": [
    {
     "data": {
      "text/plain": [
       "Loan_ID             object\n",
       "Gender              object\n",
       "ApplicantIncome      int64\n",
       "LoanAmount         float64\n",
       "Loan_Status         object\n",
       "dtype: object"
      ]
     },
     "execution_count": 5,
     "metadata": {},
     "output_type": "execute_result"
    }
   ],
   "source": [
    "loan_data.dtypes"
   ]
  },
  {
   "cell_type": "markdown",
   "metadata": {},
   "source": [
    "<div style=\"background-color:##EDF9FF\">\n",
    "  <ul><li><h3>Checking Null Values</h3></li></ul>\n",
    "</div>"
   ]
  },
  {
   "cell_type": "code",
   "execution_count": 6,
   "metadata": {},
   "outputs": [
    {
     "data": {
      "text/plain": [
       "Loan_ID             0\n",
       "Gender             13\n",
       "ApplicantIncome     0\n",
       "LoanAmount         22\n",
       "Loan_Status         0\n",
       "dtype: int64"
      ]
     },
     "execution_count": 6,
     "metadata": {},
     "output_type": "execute_result"
    }
   ],
   "source": [
    "#Checking for null values\n",
    "loan_data.isnull().sum()"
   ]
  },
  {
   "cell_type": "code",
   "execution_count": 7,
   "metadata": {},
   "outputs": [
    {
     "data": {
      "text/plain": [
       "Loan_ID             0\n",
       "Gender             13\n",
       "ApplicantIncome     0\n",
       "LoanAmount         22\n",
       "Loan_Status         0\n",
       "dtype: int64"
      ]
     },
     "execution_count": 7,
     "metadata": {},
     "output_type": "execute_result"
    }
   ],
   "source": [
    "loan_data.isna().sum()"
   ]
  },
  {
   "cell_type": "markdown",
   "metadata": {},
   "source": [
    "<div style=\"background-color:##FBFFE3\">\n",
    "    <div style=\"float:left\">\n",
    "        <img src='https://drive.google.com/uc?export=download&id=1gpc8kbwaenTpaIvnO_MQR3vw12rKYQrJ', width=20,height=20,>\n",
    "    </div>\n",
    "    <span style=\"padding:20px;\">Some of the columns have null data</span>\n",
    "</div>"
   ]
  },
  {
   "cell_type": "markdown",
   "metadata": {},
   "source": [
    "<div style=\"background-color:##EDF9FF\">\n",
    "  <ul><li><h3>Treating Null values</h3></li></ul>\n",
    "</div>"
   ]
  },
  {
   "cell_type": "code",
   "execution_count": 8,
   "metadata": {},
   "outputs": [],
   "source": [
    "gender=[]\n",
    "val=loan_data.Gender.mode()\n",
    "for i in loan_data.Gender:\n",
    "    if type(i)==np.float:\n",
    "        gender.append(val)\n",
    "    else:\n",
    "        gender.append(i)\n",
    "loan_data.Gender=gender"
   ]
  },
  {
   "cell_type": "code",
   "execution_count": 9,
   "metadata": {},
   "outputs": [],
   "source": [
    "loan_data.LoanAmount=loan_data.LoanAmount.fillna(loan_data.LoanAmount.mean())"
   ]
  },
  {
   "cell_type": "markdown",
   "metadata": {},
   "source": [
    "<div style=\"background-color:##FBFFE3\">\n",
    "    <div style=\"float:left\">\n",
    "        <img src='https://drive.google.com/uc?export=download&id=1gpc8kbwaenTpaIvnO_MQR3vw12rKYQrJ', width=20,height=20,>\n",
    "    </div>\n",
    "    <span style=\"padding:20px;\">Replacing categorical null values with mode and continous null values with mean</span>\n",
    "</div>"
   ]
  },
  {
   "cell_type": "markdown",
   "metadata": {},
   "source": [
    "<div style=\"background-color:##EDF9FF\">\n",
    "  <ul><li><h3>Check Null values</h3></li></ul>\n",
    "</div>"
   ]
  },
  {
   "cell_type": "code",
   "execution_count": 10,
   "metadata": {
    "scrolled": true
   },
   "outputs": [
    {
     "data": {
      "text/plain": [
       "Loan_ID            0\n",
       "Gender             0\n",
       "ApplicantIncome    0\n",
       "LoanAmount         0\n",
       "Loan_Status        0\n",
       "dtype: int64"
      ]
     },
     "execution_count": 10,
     "metadata": {},
     "output_type": "execute_result"
    }
   ],
   "source": [
    "loan_data.isnull().sum()"
   ]
  },
  {
   "cell_type": "markdown",
   "metadata": {},
   "source": [
    "<div style=\"background-color:##EDF9FF\">\n",
    "  <ul><li><h3>Check NA values</h3></li></ul>\n",
    "</div>"
   ]
  },
  {
   "cell_type": "code",
   "execution_count": 11,
   "metadata": {
    "scrolled": true
   },
   "outputs": [
    {
     "data": {
      "text/plain": [
       "Loan_ID            0\n",
       "Gender             0\n",
       "ApplicantIncome    0\n",
       "LoanAmount         0\n",
       "Loan_Status        0\n",
       "dtype: int64"
      ]
     },
     "execution_count": 11,
     "metadata": {},
     "output_type": "execute_result"
    }
   ],
   "source": [
    "loan_data.isna().sum()"
   ]
  },
  {
   "cell_type": "markdown",
   "metadata": {},
   "source": [
    "<div style=\"background-color:##FBFFE3\">\n",
    "    <div style=\"float:left\">\n",
    "        <img src='https://drive.google.com/uc?export=download&id=1gpc8kbwaenTpaIvnO_MQR3vw12rKYQrJ', width=20,height=20,>\n",
    "    </div>\n",
    "    <span style=\"padding:20px;\">Treated the null values</span>\n",
    "</div>"
   ]
  },
  {
   "cell_type": "markdown",
   "metadata": {},
   "source": [
    "<div style=\"background-color:##EDF9FF\">\n",
    "  <ul><li><h3> Check Distribution Of Target Variable</h3></li></ul>\n",
    "</div>"
   ]
  },
  {
   "cell_type": "code",
   "execution_count": 12,
   "metadata": {
    "scrolled": true
   },
   "outputs": [
    {
     "name": "stdout",
     "output_type": "stream",
     "text": [
      "Y    0.687296\n",
      "N    0.312704\n",
      "Name: Loan_Status, dtype: float64\n"
     ]
    }
   ],
   "source": [
    "Target_ratio=loan_data.Loan_Status.value_counts()/len(loan_data)\n",
    "print(Target_ratio)"
   ]
  },
  {
   "cell_type": "code",
   "execution_count": 13,
   "metadata": {},
   "outputs": [
    {
     "data": {
      "image/png": "[encoded data removed]",
      "text/plain": [
       "<Figure size 432x432 with 1 Axes>"
      ]
     },
     "metadata": {
      "needs_background": "light"
     },
     "output_type": "display_data"
    }
   ],
   "source": [
    "## Checking for data unbalance\n",
    "plt.figure(figsize = (6,6))\n",
    "plt.bar(Target_ratio.index,Target_ratio)\n",
    "plt.ylabel('Percentage')\n",
    "plt.show()"
   ]
  },
  {
   "cell_type": "markdown",
   "metadata": {},
   "source": [
    "<div style=\"background-color:##FBFFE3\">\n",
    "    <div style=\"float:left\">\n",
    "        <img src='https://drive.google.com/uc?export=download&id=1gpc8kbwaenTpaIvnO_MQR3vw12rKYQrJ', width=20,height=20,>\n",
    "    </div>\n",
    "    <span style=\"padding:20px;\">Dataset has around 31% of entries where loan application was not accepted.</span>\n",
    "</div>"
   ]
  },
  {
   "cell_type": "markdown",
   "metadata": {},
   "source": [
    "<div style=\"background-color:##EDF9FF\">\n",
    "  <ul><li><h3>Encode Target Vairable</h3></li></ul>\n",
    "</div>"
   ]
  },
  {
   "cell_type": "code",
   "execution_count": 14,
   "metadata": {},
   "outputs": [],
   "source": [
    "#Using labelencoder to encode the target variable\n",
    "lb=LabelEncoder()\n",
    "lb.fit(loan_data.Loan_Status)\n",
    "loan_data.Loan_Status=lb.transform(loan_data.Loan_Status)\n"
   ]
  },
  {
   "cell_type": "markdown",
   "metadata": {},
   "source": [
    "<div style=\"background-color:##EDF9FF\">\n",
    "  <ul><li><h3>Training And Testing Data</h3></li></ul>\n",
    "</div>"
   ]
  },
  {
   "cell_type": "code",
   "execution_count": 15,
   "metadata": {},
   "outputs": [],
   "source": [
    "#Divide the dataset into independent and dependent variables\n",
    "X=loan_data[['ApplicantIncome','LoanAmount']]\n",
    "y=loan_data.Loan_Status"
   ]
  },
  {
   "cell_type": "code",
   "execution_count": 16,
   "metadata": {},
   "outputs": [],
   "source": [
    "scl=RobustScaler()\n",
    "X=scl.fit_transform(X)"
   ]
  },
  {
   "cell_type": "code",
   "execution_count": 17,
   "metadata": {},
   "outputs": [],
   "source": [
    "#Split the data into training and testing set\n",
    "X_train,X_test,y_train,y_test=train_test_split(X,y,random_state=0,\n",
    "                                            test_size=0.4) #40 percent of data will be used for testing purpose"
   ]
  },
  {
   "cell_type": "markdown",
   "metadata": {},
   "source": [
    "## Support Vector Machine"
   ]
  },
  {
   "cell_type": "markdown",
   "metadata": {},
   "source": [
    "Some important hyperparameters that should be considered before training the model:\n",
    "- __C__: Regularization parameter which a float value and is __1.0__ by default. Must be strictly positive.\n",
    "- __kernel__: Specifies the kernel type to be used in the algorithm. `‘linear’, ‘poly’, ‘rbf’`\n",
    "- __degree__: An optional integer value to specify the degree of polynomial kernel fucntion which is ignored by all other kernels.\n",
    "- __gamma__: Kernel coefficient for `'rbf','poly'`\n",
    "- __coef0__: Independent term in kernel function which is significant in `'poly'`.\n",
    "\n",
    "For further information about other parameter you can refer to: <a href='https://scikit-learn.org/stable/modules/generated/sklearn.svm.SVC.html#sklearn.svm.SVC'>SVC scikit-learn</a>"
   ]
  },
  {
   "cell_type": "markdown",
   "metadata": {},
   "source": [
    "<div style=\"background-color:##EDF9FF\">\n",
    "  <ul><li><h3>Linear SVM</h3></li></ul>\n",
    "</div>"
   ]
  },
  {
   "cell_type": "code",
   "execution_count": 18,
   "metadata": {},
   "outputs": [],
   "source": [
    "svc_loan=SVC(C=10,kernel='linear')"
   ]
  },
  {
   "cell_type": "code",
   "execution_count": 19,
   "metadata": {},
   "outputs": [
    {
     "data": {
      "text/plain": [
       "SVC(C=10, break_ties=False, cache_size=200, class_weight=None, coef0=0.0,\n",
       "    decision_function_shape='ovr', degree=3, gamma='scale', kernel='linear',\n",
       "    max_iter=-1, probability=False, random_state=None, shrinking=True,\n",
       "    tol=0.001, verbose=False)"
      ]
     },
     "execution_count": 19,
     "metadata": {},
     "output_type": "execute_result"
    }
   ],
   "source": [
    "svc_loan.fit(X_train,y_train)"
   ]
  },
  {
   "cell_type": "markdown",
   "metadata": {},
   "source": [
    "## Accuracy Score"
   ]
  },
  {
   "cell_type": "code",
   "execution_count": 20,
   "metadata": {},
   "outputs": [
    {
     "name": "stdout",
     "output_type": "stream",
     "text": [
      "Accuracy Score:  0.6951219512195121\n"
     ]
    }
   ],
   "source": [
    "pred=svc_loan.predict(X_test)\n",
    "acc_svc_loan=accuracy_score(y_test,pred)\n",
    "print('Accuracy Score: ',acc_svc_loan)"
   ]
  },
  {
   "cell_type": "markdown",
   "metadata": {},
   "source": [
    "<div style=\"background-color:##EDF9FF\">\n",
    "  <ul><li><h3>Gaussian RBF</h3></li></ul>\n",
    "</div>"
   ]
  },
  {
   "cell_type": "code",
   "execution_count": 21,
   "metadata": {},
   "outputs": [],
   "source": [
    "svc_loan=SVC(C=10,kernel='rbf',gamma=2)"
   ]
  },
  {
   "cell_type": "code",
   "execution_count": 22,
   "metadata": {},
   "outputs": [
    {
     "data": {
      "text/plain": [
       "SVC(C=10, break_ties=False, cache_size=200, class_weight=None, coef0=0.0,\n",
       "    decision_function_shape='ovr', degree=3, gamma=2, kernel='rbf', max_iter=-1,\n",
       "    probability=False, random_state=None, shrinking=True, tol=0.001,\n",
       "    verbose=False)"
      ]
     },
     "execution_count": 22,
     "metadata": {},
     "output_type": "execute_result"
    }
   ],
   "source": [
    "svc_loan.fit(X_train,y_train)"
   ]
  },
  {
   "cell_type": "markdown",
   "metadata": {},
   "source": [
    "## Accuracy Score"
   ]
  },
  {
   "cell_type": "code",
   "execution_count": 23,
   "metadata": {},
   "outputs": [
    {
     "name": "stdout",
     "output_type": "stream",
     "text": [
      "Accuracy Score:  0.6788617886178862\n"
     ]
    }
   ],
   "source": [
    "pred=svc_loan.predict(X_test)\n",
    "acc_svc_loan=accuracy_score(y_test,pred)\n",
    "print('Accuracy Score: ',acc_svc_loan)"
   ]
  },
  {
   "cell_type": "markdown",
   "metadata": {},
   "source": [
    "<b><i>Conclusion</i></b>: In this demonstration, we have gained an understanding of how to apply SVM algorithm."
   ]
  }
 ],
 "metadata": {
  "kernelspec": {
   "display_name": "Python 3",
   "language": "python",
   "name": "python3"
  },
  "language_info": {
   "codemirror_mode": {
    "name": "ipython",
    "version": 3
   },
   "file_extension": ".py",
   "mimetype": "text/x-python",
   "name": "python",
   "nbconvert_exporter": "python",
   "pygments_lexer": "ipython3",
   "version": "3.7.4"
  }
 },
 "nbformat": 4,
 "nbformat_minor": 4
}
